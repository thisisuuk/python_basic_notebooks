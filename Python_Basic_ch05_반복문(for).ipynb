{
 "cells": [
  {
   "cell_type": "markdown",
   "id": "291ea7f9",
   "metadata": {},
   "source": [
    "## loop(반복문)\n",
    "\n",
    "- 반복적인 작업을 가능하게 해주는 도구\n",
    "- list, str, tuple 등 컬렉션 타입의 경우 아이템을 하나씩 순회하면서 사용(for)\n",
    "- 특정 조건을 만족하는 경우 계속 수행(while)\n",
    "\n",
    "1. 반복 획수 알고 있음: for\n",
    "2. 반복 횟수 모름: while"
   ]
  },
  {
   "cell_type": "markdown",
   "id": "bcaa8072",
   "metadata": {},
   "source": [
    "## 반복문(for)"
   ]
  },
  {
   "cell_type": "code",
   "execution_count": 4,
   "id": "4fac36d4",
   "metadata": {},
   "outputs": [
    {
     "name": "stdout",
     "output_type": "stream",
     "text": [
      "1\n",
      "2\n",
      "3\n"
     ]
    }
   ],
   "source": [
    "# 컬렉션 타입을 활용한 반복문\n",
    "list_a = [1,2,3]\n",
    "\n",
    "for num in list_a:\n",
    "    print(num)"
   ]
  },
  {
   "cell_type": "code",
   "execution_count": 15,
   "id": "12876801",
   "metadata": {},
   "outputs": [
    {
     "name": "stdout",
     "output_type": "stream",
     "text": [
      "0\n",
      "1\n",
      "2\n",
      "3\n",
      "4\n",
      "5\n",
      "6\n",
      "7\n",
      "8\n",
      "9\n"
     ]
    }
   ],
   "source": [
    "# range 함수를 활용한 반복문 (range(5) 면 4까지만)\n",
    "# range()\n",
    "list(range(1,11))\n",
    "for i in range(10):\n",
    "    print(i)\n"
   ]
  },
  {
   "cell_type": "code",
   "execution_count": 13,
   "id": "e733630a",
   "metadata": {},
   "outputs": [
    {
     "name": "stdout",
     "output_type": "stream",
     "text": [
      "0 7\n",
      "1 8\n",
      "2 9\n"
     ]
    }
   ],
   "source": [
    "# enumerate() 활용한 반복문\n",
    "# - 반복 획수(인덱스) 알고 싶은 경우 사용\n",
    "\n",
    "# i = index , val = value\n",
    "a = [7, 8, 9]\n",
    "for i, val in enumerate(a):\n",
    "    print(i, val)"
   ]
  },
  {
   "cell_type": "code",
   "execution_count": 14,
   "id": "300e56e8",
   "metadata": {},
   "outputs": [
    {
     "name": "stdout",
     "output_type": "stream",
     "text": [
      "0 0\n",
      "0 1\n",
      "0 2\n",
      "1 0\n",
      "1 1\n",
      "1 2\n",
      "2 0\n",
      "2 1\n",
      "2 2\n",
      "3 0\n",
      "3 1\n",
      "3 2\n",
      "4 0\n",
      "4 1\n",
      "4 2\n"
     ]
    }
   ],
   "source": [
    "# 중첩 for문\n",
    "for i in range(5):\n",
    "    for j in range(3):\n",
    "        print(i,j)"
   ]
  },
  {
   "cell_type": "code",
   "execution_count": 18,
   "id": "ab8311c0",
   "metadata": {},
   "outputs": [
    {
     "name": "stdout",
     "output_type": "stream",
     "text": [
      "index: 0, value: A\n",
      "index: 1, value: B\n",
      "index: 2, value: C\n",
      "index: 3, value: D\n"
     ]
    }
   ],
   "source": [
    "a = [\"A\",\"B\",\"C\",\"D\"]\n",
    "for i, val in enumerate(a):\n",
    "    print(f\"index: {i}, value: {val}\")"
   ]
  },
  {
   "cell_type": "code",
   "execution_count": 21,
   "id": "68302c15",
   "metadata": {},
   "outputs": [
    {
     "name": "stdout",
     "output_type": "stream",
     "text": [
      "korea\n",
      "japan\n",
      "canada\n",
      "seoul\n",
      "tokyo\n",
      "ottawa\n"
     ]
    }
   ],
   "source": [
    "# dict type\n",
    "a = {\n",
    "    \"korea\" : \"seoul\",\n",
    "    \"japan\" : \"tokyo\",\n",
    "    \"canada\" : \"ottawa\"\n",
    "}\n",
    "\n",
    "for key in a:\n",
    "    print(key)"
   ]
  },
  {
   "cell_type": "code",
   "execution_count": 22,
   "id": "c83a56ea",
   "metadata": {},
   "outputs": [
    {
     "name": "stdout",
     "output_type": "stream",
     "text": [
      "seoul\n",
      "tokyo\n",
      "ottawa\n"
     ]
    }
   ],
   "source": [
    "for value in a.values():\n",
    "    print(value)"
   ]
  },
  {
   "cell_type": "code",
   "execution_count": 24,
   "id": "a91e5c26",
   "metadata": {},
   "outputs": [
    {
     "name": "stdout",
     "output_type": "stream",
     "text": [
      "korea seoul\n",
      "japan tokyo\n",
      "canada ottawa\n"
     ]
    }
   ],
   "source": [
    "for key, value in a.items():\n",
    "    print(key, value)"
   ]
  },
  {
   "cell_type": "code",
   "execution_count": 26,
   "id": "a49fa12c",
   "metadata": {},
   "outputs": [
    {
     "name": "stdout",
     "output_type": "stream",
     "text": [
      "1\n",
      "2\n",
      "3\n"
     ]
    }
   ],
   "source": [
    "# break: 반복문 종료\n",
    "a = [1,2,3,4,5]\n",
    "\n",
    "for num in a:\n",
    "    if num > 3:\n",
    "        break\n",
    "    print(num)"
   ]
  },
  {
   "cell_type": "code",
   "execution_count": null,
   "id": "5c75d244",
   "metadata": {},
   "outputs": [],
   "source": [
    "# continue: 해당 반복을 건너띄고 다음 반복으로 이동(반복문 종료 X)\n",
    "\n",
    "a = [1,2,3,4,5]\n",
    "\n",
    "for num in a:\n",
    "    if num % 2 == 0: # 짝수 판별\n",
    "        continue # 2는 나머지가 0이니까 continue 타고 출력 안하고 다음으로 넘어감\n",
    "    print(num)"
   ]
  }
 ],
 "metadata": {
  "kernelspec": {
   "display_name": "Python 3 (ipykernel)",
   "language": "python",
   "name": "python3"
  },
  "language_info": {
   "codemirror_mode": {
    "name": "ipython",
    "version": 3
   },
   "file_extension": ".py",
   "mimetype": "text/x-python",
   "name": "python",
   "nbconvert_exporter": "python",
   "pygments_lexer": "ipython3",
   "version": "3.9.13"
  }
 },
 "nbformat": 4,
 "nbformat_minor": 5
}
