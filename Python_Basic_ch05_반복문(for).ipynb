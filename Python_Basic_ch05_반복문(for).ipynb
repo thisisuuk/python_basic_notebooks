{
 "cells": [
  {
   "cell_type": "markdown",
   "id": "291ea7f9",
   "metadata": {},
   "source": [
    "## loop(반복문)\n",
    "\n",
    "- 반복적인 작업을 가능하게 해주는 도구\n",
    "- list, str, tuple 등 컬렉션 타입의 경우 아이템을 하나씩 순회하면서 사용(for)\n",
    "- 특정 조건을 만족하는 경우 계속 수행(while)\n",
    "\n",
    "1. 반복 획수 알고 있음: for\n",
    "2. 반복 횟수 모름: while"
   ]
  },
  {
   "cell_type": "markdown",
   "id": "bcaa8072",
   "metadata": {},
   "source": [
    "## 반복문(for)"
   ]
  },
  {
   "cell_type": "code",
   "execution_count": 4,
   "id": "4fac36d4",
   "metadata": {},
   "outputs": [
    {
     "name": "stdout",
     "output_type": "stream",
     "text": [
      "1\n",
      "2\n",
      "3\n"
     ]
    }
   ],
   "source": [
    "# 컬렉션 타입을 활용한 반복문\n",
    "list_a = [1,2,3]\n",
    "\n",
    "for num in list_a:\n",
    "    print(num)"
   ]
  },
  {
   "cell_type": "code",
   "execution_count": 1,
   "id": "12876801",
   "metadata": {},
   "outputs": [
    {
     "name": "stdout",
     "output_type": "stream",
     "text": [
      "[1, 2, 3, 4, 5, 6, 7, 8, 9, 10]\n",
      "0\n",
      "1\n",
      "2\n",
      "3\n",
      "4\n",
      "5\n",
      "6\n",
      "7\n",
      "8\n",
      "9\n"
     ]
    }
   ],
   "source": [
    "# range 함수를 활용한 반복문 (range(5) 면 4까지만)\n",
    "# range()\n",
    "\n",
    "print(list(range(1,11)))\n",
    "\n",
    "for i in range(10):\n",
    "    print(i)\n"
   ]
  },
  {
   "cell_type": "code",
   "execution_count": 5,
   "id": "e733630a",
   "metadata": {},
   "outputs": [
    {
     "name": "stdout",
     "output_type": "stream",
     "text": [
      "0\n",
      "7\n",
      "0 7\n",
      "1\n",
      "8\n",
      "1 8\n",
      "2\n",
      "9\n",
      "2 9\n"
     ]
    }
   ],
   "source": [
    "# enumerate() 활용한 반복문\n",
    "# - 반복 획수(인덱스) 알고 싶은 경우 사용\n",
    "\n",
    "# i = index , val = value\n",
    "a = [7, 8, 9]\n",
    "for i, val in enumerate(a):\n",
    "    print(i)\n",
    "    print(val)\n",
    "    print(i, val)"
   ]
  },
  {
   "cell_type": "code",
   "execution_count": 14,
   "id": "300e56e8",
   "metadata": {},
   "outputs": [
    {
     "name": "stdout",
     "output_type": "stream",
     "text": [
      "0 0\n",
      "0 1\n",
      "0 2\n",
      "1 0\n",
      "1 1\n",
      "1 2\n",
      "2 0\n",
      "2 1\n",
      "2 2\n",
      "3 0\n",
      "3 1\n",
      "3 2\n",
      "4 0\n",
      "4 1\n",
      "4 2\n"
     ]
    }
   ],
   "source": [
    "# 중첩 for문\n",
    "for i in range(5):\n",
    "    for j in range(3):\n",
    "        print(i,j)"
   ]
  },
  {
   "cell_type": "code",
   "execution_count": 18,
   "id": "ab8311c0",
   "metadata": {},
   "outputs": [
    {
     "name": "stdout",
     "output_type": "stream",
     "text": [
      "index: 0, value: A\n",
      "index: 1, value: B\n",
      "index: 2, value: C\n",
      "index: 3, value: D\n"
     ]
    }
   ],
   "source": [
    "a = [\"A\",\"B\",\"C\",\"D\"]\n",
    "for i, val in enumerate(a):\n",
    "    print(f\"index: {i}, value: {val}\")"
   ]
  },
  {
   "cell_type": "code",
   "execution_count": 6,
   "id": "68302c15",
   "metadata": {},
   "outputs": [
    {
     "name": "stdout",
     "output_type": "stream",
     "text": [
      "korea\n",
      "japan\n",
      "canada\n"
     ]
    }
   ],
   "source": [
    "# dict type\n",
    "a = {\n",
    "    \"korea\" : \"seoul\",\n",
    "    \"japan\" : \"tokyo\",\n",
    "    \"canada\" : \"ottawa\"\n",
    "}\n",
    "\n",
    "for key in a:\n",
    "    print(key)"
   ]
  },
  {
   "cell_type": "code",
   "execution_count": 7,
   "id": "c83a56ea",
   "metadata": {},
   "outputs": [
    {
     "name": "stdout",
     "output_type": "stream",
     "text": [
      "korea\n",
      "japan\n",
      "canada\n"
     ]
    }
   ],
   "source": [
    "for value in a.values: # a.values를 써줘야 value 값으로 변환 됨, 그냥 in a 하면 key 값\n",
    "    print(value)"
   ]
  },
  {
   "cell_type": "code",
   "execution_count": 24,
   "id": "a91e5c26",
   "metadata": {},
   "outputs": [
    {
     "name": "stdout",
     "output_type": "stream",
     "text": [
      "korea seoul\n",
      "japan tokyo\n",
      "canada ottawa\n"
     ]
    }
   ],
   "source": [
    "for key, value in a.items():\n",
    "    print(key, value)"
   ]
  },
  {
   "cell_type": "code",
   "execution_count": 26,
   "id": "a49fa12c",
   "metadata": {},
   "outputs": [
    {
     "name": "stdout",
     "output_type": "stream",
     "text": [
      "1\n",
      "2\n",
      "3\n"
     ]
    }
   ],
   "source": [
    "# break: 반복문 종료\n",
    "a = [1,2,3,4,5]\n",
    "\n",
    "for num in a:\n",
    "    if num > 3:\n",
    "        break\n",
    "    print(num)"
   ]
  },
  {
   "cell_type": "code",
   "execution_count": 8,
   "id": "5c75d244",
   "metadata": {},
   "outputs": [
    {
     "name": "stdout",
     "output_type": "stream",
     "text": [
      "1\n",
      "3\n",
      "5\n"
     ]
    }
   ],
   "source": [
    "# continue: 해당 반복을 건너띄고 다음 반복으로 이동(반복문 종료 X)\n",
    "\n",
    "a = [1,2,3,4,5]\n",
    "\n",
    "for num in a:\n",
    "    if num % 2 == 0: # 짝수 판별\n",
    "        continue # 2는 나머지가 0이니까 continue 타고 출력 안하고 다음으로 넘어감\n",
    "    print(num)"
   ]
  },
  {
   "cell_type": "markdown",
   "id": "4094aab7",
   "metadata": {},
   "source": [
    "## 연습문제"
   ]
  },
  {
   "cell_type": "code",
   "execution_count": 5,
   "id": "78ace664",
   "metadata": {},
   "outputs": [
    {
     "name": "stdout",
     "output_type": "stream",
     "text": [
      "2x1=2\n",
      "2x2=4\n",
      "2x3=6\n",
      "2x4=8\n",
      "2x5=10\n",
      "2x6=12\n",
      "2x7=14\n",
      "2x8=16\n",
      "2x9=18\n"
     ]
    }
   ],
   "source": [
    "# 문제 1. 구구단 출력\n",
    "# 2 x 1 = 2\n",
    "# 2 x 2 = 4\n",
    "# ...\n",
    "# 2 x 9 = 18\n",
    "\n",
    "for i in range(1,10):\n",
    "    print(f\"2x{i}={2*i}\")"
   ]
  },
  {
   "cell_type": "code",
   "execution_count": 7,
   "id": "cab5b148",
   "metadata": {},
   "outputs": [
    {
     "name": "stdout",
     "output_type": "stream",
     "text": [
      "단수 : 5\n",
      "5x1=5\n",
      "5x2=10\n",
      "5x3=15\n",
      "5x4=20\n",
      "5x5=25\n",
      "5x6=30\n",
      "5x7=35\n",
      "5x8=40\n",
      "5x9=45\n"
     ]
    }
   ],
   "source": [
    "num = int(input(\"단수 : \"))\n",
    "\n",
    "for i in range(1,10):\n",
    "    print(f\"{num}x{i}={num*i}\")"
   ]
  },
  {
   "cell_type": "code",
   "execution_count": 10,
   "id": "4017332c",
   "metadata": {},
   "outputs": [
    {
     "name": "stdout",
     "output_type": "stream",
     "text": [
      " 2 x 1 = 2\n",
      " 2 x 2 = 4\n",
      " 2 x 3 = 6\n",
      " 2 x 4 = 8\n",
      " 2 x 5 = 10\n",
      " 2 x 6 = 12\n",
      " 2 x 7 = 14\n",
      " 2 x 8 = 16\n",
      " 2 x 9 = 18\n",
      " 3 x 1 = 3\n",
      " 3 x 2 = 6\n",
      " 3 x 3 = 9\n",
      " 3 x 4 = 12\n",
      " 3 x 5 = 15\n",
      " 3 x 6 = 18\n",
      " 3 x 7 = 21\n",
      " 3 x 8 = 24\n",
      " 3 x 9 = 27\n",
      " 4 x 1 = 4\n",
      " 4 x 2 = 8\n",
      " 4 x 3 = 12\n",
      " 4 x 4 = 16\n",
      " 4 x 5 = 20\n",
      " 4 x 6 = 24\n",
      " 4 x 7 = 28\n",
      " 4 x 8 = 32\n",
      " 4 x 9 = 36\n",
      " 5 x 1 = 5\n",
      " 5 x 2 = 10\n",
      " 5 x 3 = 15\n",
      " 5 x 4 = 20\n",
      " 5 x 5 = 25\n",
      " 5 x 6 = 30\n",
      " 5 x 7 = 35\n",
      " 5 x 8 = 40\n",
      " 5 x 9 = 45\n",
      " 6 x 1 = 6\n",
      " 6 x 2 = 12\n",
      " 6 x 3 = 18\n",
      " 6 x 4 = 24\n",
      " 6 x 5 = 30\n",
      " 6 x 6 = 36\n",
      " 6 x 7 = 42\n",
      " 6 x 8 = 48\n",
      " 6 x 9 = 54\n",
      " 7 x 1 = 7\n",
      " 7 x 2 = 14\n",
      " 7 x 3 = 21\n",
      " 7 x 4 = 28\n",
      " 7 x 5 = 35\n",
      " 7 x 6 = 42\n",
      " 7 x 7 = 49\n",
      " 7 x 8 = 56\n",
      " 7 x 9 = 63\n",
      " 8 x 1 = 8\n",
      " 8 x 2 = 16\n",
      " 8 x 3 = 24\n",
      " 8 x 4 = 32\n",
      " 8 x 5 = 40\n",
      " 8 x 6 = 48\n",
      " 8 x 7 = 56\n",
      " 8 x 8 = 64\n",
      " 8 x 9 = 72\n",
      " 9 x 1 = 9\n",
      " 9 x 2 = 18\n",
      " 9 x 3 = 27\n",
      " 9 x 4 = 36\n",
      " 9 x 5 = 45\n",
      " 9 x 6 = 54\n",
      " 9 x 7 = 63\n",
      " 9 x 8 = 72\n",
      " 9 x 9 = 81\n"
     ]
    }
   ],
   "source": [
    "# 2단부터 9단까지 출력\n",
    "\n",
    "# 큰 반복: 2~9 → 단수\n",
    "#   작은 반복: 1~9 ㅡ 단수x1 ~ 단수x9\n",
    "for i in range(2,10): # i == 단수\n",
    "    for j in range(1,10):\n",
    "        print(f\" {i} x {j} = {i*j}\")"
   ]
  },
  {
   "cell_type": "code",
   "execution_count": 15,
   "id": "8b95946d",
   "metadata": {},
   "outputs": [
    {
     "name": "stdout",
     "output_type": "stream",
     "text": [
      "2\n",
      "4\n",
      "6\n",
      "8\n",
      "10\n",
      "11\n",
      "12\n",
      "14\n",
      "16\n",
      "18\n",
      "20\n",
      "22\n",
      "24\n",
      "26\n",
      "28\n",
      "30\n"
     ]
    }
   ],
   "source": [
    "# 문제2. 1~30 까지의 정수 중 2의 배수 또는 1의 배수를 모두 출력하시오.\n",
    "\n",
    "for num in range(1,31):\n",
    "    if num % 2 == 0 or num % 11 == 0:\n",
    "        print(num)"
   ]
  }
 ],
 "metadata": {
  "kernelspec": {
   "display_name": "Python 3 (ipykernel)",
   "language": "python",
   "name": "python3"
  },
  "language_info": {
   "codemirror_mode": {
    "name": "ipython",
    "version": 3
   },
   "file_extension": ".py",
   "mimetype": "text/x-python",
   "name": "python",
   "nbconvert_exporter": "python",
   "pygments_lexer": "ipython3",
   "version": "3.9.13"
  }
 },
 "nbformat": 4,
 "nbformat_minor": 5
}
