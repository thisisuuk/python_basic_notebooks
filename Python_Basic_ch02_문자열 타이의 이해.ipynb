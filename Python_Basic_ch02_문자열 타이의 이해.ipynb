{
 "cells": [
  {
   "cell_type": "markdown",
   "id": "f13263f5",
   "metadata": {},
   "source": [
    "## 1. 문자열(string)\n",
    "- 복수개의 문자를 순서대로 나열한 것\n",
    "- 문자열은 '' 또는 \"\" 사이에 문자를 넣어서 생성\n",
    "- 문자열 자체에 '' 또는 \"\"이 있는 경우 각각 그 반대로 사용"
   ]
  },
  {
   "cell_type": "code",
   "execution_count": 1,
   "id": "aedb7c86",
   "metadata": {},
   "outputs": [
    {
     "name": "stdout",
     "output_type": "stream",
     "text": [
      "챗봇: '만나서 반갑습니다'\n"
     ]
    }
   ],
   "source": [
    "print(\"챗봇: '만나서 반갑습니다'\")"
   ]
  },
  {
   "cell_type": "code",
   "execution_count": 2,
   "id": "14347683",
   "metadata": {},
   "outputs": [
    {
     "name": "stdout",
     "output_type": "stream",
     "text": [
      "Hi\n",
      "Hi\n",
      "\n",
      "      hi\n",
      "      hello\n",
      "\n",
      "      hi\n"
     ]
    }
   ],
   "source": [
    "print('Hi')\n",
    "print(\"Hi\")\n",
    "print('''\n",
    "      hi\n",
    "      hello''')\n",
    "print(\"\"\"\n",
    "      hi\"\"\")"
   ]
  },
  {
   "cell_type": "markdown",
   "id": "06559a16",
   "metadata": {},
   "source": [
    "## 2. 문자열 인덱스(index)\n",
    "- 문자열의 각 문자는 순서(인덱스)가 있음\n",
    "- 첫번째 문자부터 마지막 문자까지 순차적으로 인덱스를 가짐\n",
    "- 인덱스의 시작은 0번부터 시작\n",
    "- 인덱스는 공백 포함"
   ]
  },
  {
   "cell_type": "markdown",
   "id": "a15d502a",
   "metadata": {},
   "source": [
    "### 문자 추출\n",
    "- 인덱스 번호를 통해서 문자 추출 가능\n",
    "- 인덱스 범위를 벗어나면 error 발생\n",
    "\n",
    "> 변수명[인덱스번호] → name[3]"
   ]
  },
  {
   "cell_type": "code",
   "execution_count": 5,
   "id": "4faafb05",
   "metadata": {},
   "outputs": [
    {
     "name": "stdout",
     "output_type": "stream",
     "text": [
      "o\n"
     ]
    }
   ],
   "source": [
    "# 문자열 길이: 12 (공백 포함)\n",
    "# 인덱스 범위: 0~11 (0이 하나 들어가니까 문자열보다 1개 적음)\n",
    "msg = \"Hello Python\"\n",
    "print(msg[4])\n",
    "# print(msg[12])"
   ]
  },
  {
   "cell_type": "markdown",
   "id": "a4e87e12",
   "metadata": {},
   "source": [
    "#### reverse index(-1)"
   ]
  },
  {
   "cell_type": "code",
   "execution_count": 8,
   "id": "f2ee6eb8",
   "metadata": {},
   "outputs": [
    {
     "name": "stdout",
     "output_type": "stream",
     "text": [
      "n\n",
      "h\n"
     ]
    }
   ],
   "source": [
    "# 그냥 인덱스는 0~12\n",
    "# 리버스는 -1~\n",
    "\n",
    "msg = \"Hello Python\"\n",
    "print(msg[-1])\n",
    "print(msg[-3])"
   ]
  },
  {
   "cell_type": "markdown",
   "id": "23aa73b7",
   "metadata": {},
   "source": [
    "## 3. 문자열 슬라이싱\n",
    "- a[3]은 인덱스를 통해 문자 하나만 추출 가능\n",
    "- 부분 문자열을 추출하고 싶은 경우 슬라이싱 사용\n",
    "- 시작 인덱스 번호가 생략되면 0으로 설정\n",
    "- 끝 인덱스 번호가 생략되면 -1으로 설정\n",
    "\n",
    "> 변수명[시작:끝] → name[3:5] 3~4(끝 인덱스는 -1 해야함 **)"
   ]
  },
  {
   "cell_type": "code",
   "execution_count": 12,
   "id": "dd03ad1e",
   "metadata": {},
   "outputs": [
    {
     "name": "stdout",
     "output_type": "stream",
     "text": [
      "P\n",
      "Python\n",
      "Python\n",
      " is all you need\n",
      "Python is all you need\n"
     ]
    }
   ],
   "source": [
    "comment = \"Python is all you need\"\n",
    "\n",
    "print(comment[0])\n",
    "print(comment[0:6]) # 0~5번까지 출력\n",
    "print(comment[:6]) # 처음부터 5번까지 출력\n",
    "print(comment[6:]) # 6부터 끝\n",
    "print(comment[:])"
   ]
  },
  {
   "cell_type": "code",
   "execution_count": 13,
   "id": "d575a22a",
   "metadata": {},
   "outputs": [
    {
     "name": "stdout",
     "output_type": "stream",
     "text": [
      "need\n"
     ]
    }
   ],
   "source": [
    "# need만 추출\n",
    "comment = \"Python is all you need\"\n",
    "print(comment[18:])\n",
    "print(comment[-4:])"
   ]
  },
  {
   "cell_type": "markdown",
   "id": "6e0ddf68",
   "metadata": {},
   "source": [
    "## 4. 문자열 멤버 함수"
   ]
  },
  {
   "cell_type": "code",
   "execution_count": null,
   "id": "ae4ecb29",
   "metadata": {},
   "outputs": [],
   "source": [
    "str = \"Hello World\""
   ]
  },
  {
   "cell_type": "code",
   "execution_count": 17,
   "id": "a200b05b",
   "metadata": {},
   "outputs": [
    {
     "name": "stdout",
     "output_type": "stream",
     "text": [
      "11\n"
     ]
    }
   ],
   "source": [
    "# len() : 문자열 길이를 계산\n",
    "print(len(str))"
   ]
  },
  {
   "cell_type": "code",
   "execution_count": 16,
   "id": "f24d30c8",
   "metadata": {},
   "outputs": [
    {
     "name": "stdout",
     "output_type": "stream",
     "text": [
      "HELLO WORLD\n",
      "hello world\n"
     ]
    }
   ],
   "source": [
    "# upper() and lower() : 대문자 또는 소문자로 변경\n",
    "print(str.upper())\n",
    "print(str.lower())"
   ]
  },
  {
   "cell_type": "code",
   "execution_count": 20,
   "id": "eb068cf8",
   "metadata": {},
   "outputs": [
    {
     "data": {
      "text/plain": [
       "'Hellg Wgrld'"
      ]
     },
     "execution_count": 20,
     "metadata": {},
     "output_type": "execute_result"
    }
   ],
   "source": [
    "# replace() : 문자열 내의 특정 문자 치환\n",
    "str.replace(\"H\",\"j\")\n",
    "str.replace(\"o\",\"g\") # 복수개 치환"
   ]
  },
  {
   "cell_type": "code",
   "execution_count": 23,
   "id": "43bf5ed4",
   "metadata": {},
   "outputs": [
    {
     "name": "stdout",
     "output_type": "stream",
     "text": [
      "['Hello ', 'orld ', 'hat a nice ', 'eather']\n",
      "['Hello', 'world', 'what', 'a', 'nice', 'weather']\n"
     ]
    }
   ],
   "source": [
    "# split() : 구분자를 기준으로 문자열 분할. default 구분자 공백\n",
    "a = \"Hello world what a nice weather\"\n",
    "print(a.split(\"w\"))\n",
    "print(a.split(\" \")) #띄어쓰기를 구분자로 씀"
   ]
  }
 ],
 "metadata": {
  "kernelspec": {
   "display_name": "Python 3 (ipykernel)",
   "language": "python",
   "name": "python3"
  },
  "language_info": {
   "codemirror_mode": {
    "name": "ipython",
    "version": 3
   },
   "file_extension": ".py",
   "mimetype": "text/x-python",
   "name": "python",
   "nbconvert_exporter": "python",
   "pygments_lexer": "ipython3",
   "version": "3.9.13"
  }
 },
 "nbformat": 4,
 "nbformat_minor": 5
}
