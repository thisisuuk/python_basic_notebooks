{
 "cells": [
  {
   "cell_type": "markdown",
   "id": "e78c782d",
   "metadata": {},
   "source": [
    "## 라이브러리(library), 패키지(package), 모듈(module)\n",
    "\n",
    "- 라이브러리 >= 패키지 >= 모듈\n",
    "- 라이브러리: 여러 패키지와 모듈의 묶음\n",
    "- 패키지: 특정 기능과 관련된 여러 모듈의 묶음\n",
    "- 모듈: 이미 작성된 프로그램, 일반적으로 한 파일을 의미(.py)"
   ]
  },
  {
   "cell_type": "code",
   "execution_count": 3,
   "id": "04facd19",
   "metadata": {},
   "outputs": [
    {
     "name": "stdout",
     "output_type": "stream",
     "text": [
      "3.141592653589793\n",
      "<built-in function cos>\n"
     ]
    }
   ],
   "source": [
    "# 사용방법 3가지\n",
    "# 1.import\n",
    "import math # 파이썬의 math 모듈 전체를 호출 (비효율적)\n",
    "print(math.pi)\n",
    "\n",
    "# 2. from import # math 중에서 3가지만 호출 (효율적)\n",
    "from math import pi, cos, sin\n",
    "print(math.cos)\n",
    "\n",
    "# 3. as(Alias)\n",
    "import tensorflow as tf # 텐서플로우 다 적기 너무 기니까 tf로 별명 지어줌"
   ]
  },
  {
   "cell_type": "code",
   "execution_count": null,
   "id": "92dac655",
   "metadata": {},
   "outputs": [],
   "source": [
    "import pandas as pd\n",
    "import numpy as np\n",
    "import tensorflow as tf"
   ]
  },
  {
   "cell_type": "markdown",
   "id": "bd177179",
   "metadata": {},
   "source": [
    "## 예외처리\n",
    "\n",
    "예외\n",
    "- 프로그램을 개발하면서 예상하지 못한 상황\n",
    "- ex) 사용자의 입력 오류\n",
    "- ex) 전산실 화재\n",
    "- 데이터베이스(db) 또는 파일시스템 사용할 때는 반드시 예외처리 !!\n",
    "\n",
    "```python\n",
    "# 예외 기본 문법\n",
    "try:\n",
    "    예외 발생 가능한 코드 # 예외 안뜨는게 대부분임, 시도해봐\n",
    "except 예외 타입:\n",
    "    예외 발생 시 실행되는 코드\n",
    "else:\n",
    "    예외가 발생하지 않았을 때 실행\n",
    "finally:\n",
    "    예외에 상관없이 무조건 실행 # 연결해제, 자원해제\n",
    "    \n",
    "# 정상실행: try - else - finally\n",
    "# 예외실행: try - except - finally\n",
    "# else, finally 생략 가능\n",
    "\n",
    "# 데이터베이스 사용!\n",
    "# 1. python(앱) - 데이터베이스: connection\n",
    "# 2. 사용(입력, 수정, 삭제, 조회, 검색)\n",
    "# 3. 연결 해제(자원 해제)\n",
    "\n",
    "```"
   ]
  },
  {
   "cell_type": "code",
   "execution_count": 7,
   "id": "c6fe8f6e",
   "metadata": {},
   "outputs": [
    {
     "name": "stdout",
     "output_type": "stream",
     "text": [
      "정상\n",
      "무조건 실행\n"
     ]
    }
   ],
   "source": [
    "from urllib.request import urlopen\n",
    "\n",
    "try:\n",
    "    html = urlopen(\"http://www.naver.com\")\n",
    "except HTTPError as e:\n",
    "    print(e)\n",
    "else:\n",
    "    print(\"정상\")\n",
    "finally:\n",
    "    print(\"무조건 실행\")"
   ]
  },
  {
   "cell_type": "code",
   "execution_count": null,
   "id": "094bef4a",
   "metadata": {},
   "outputs": [],
   "source": [
    "from urllib.request import urlopen\n",
    "\n",
    "try:\n",
    "    html = urlopen(\"http://www.nnnnaver.com\")\n",
    "except HTTPError as e:\n",
    "    print(e)\n",
    "else:\n",
    "    print(\"정상\")\n",
    "finally:\n",
    "    print(\"무조건 실행\")"
   ]
  }
 ],
 "metadata": {
  "kernelspec": {
   "display_name": "Python 3 (ipykernel)",
   "language": "python",
   "name": "python3"
  },
  "language_info": {
   "codemirror_mode": {
    "name": "ipython",
    "version": 3
   },
   "file_extension": ".py",
   "mimetype": "text/x-python",
   "name": "python",
   "nbconvert_exporter": "python",
   "pygments_lexer": "ipython3",
   "version": "3.9.13"
  }
 },
 "nbformat": 4,
 "nbformat_minor": 5
}
