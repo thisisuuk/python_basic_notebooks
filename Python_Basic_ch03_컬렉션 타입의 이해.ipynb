{
 "cells": [
  {
   "cell_type": "markdown",
   "id": "3ba25b4f",
   "metadata": {},
   "source": [
    "## 컬렉션 데이터 타입\n",
    "- 변수 : 하나의 값을 저장할 수 있는 메모리 공간  \n",
    "- 컬렉션 데이터 타입 : 다양한 자료형의 여러값을 저장 가능\n",
    "- list, dict, tuple, set\n",
    "\n",
    "1. list[]\n",
    "- 시퀀스 자료형(연속 된 값 저장, 기차, 인덱스 존재) → 정렬 가능\n",
    "- mutable(생성 후 변경 가능)\n",
    "- index 사용 → slicing 가능\n",
    "- packing과 unpacking 가능\n",
    "- 멤버함수 : append(), extend(), insert(), remove(), pop(), sort() 등등\n",
    "\n",
    "2. tuple()\n",
    "- 시퀀스 자료형(연속 된 값 저장) → 정렬 불가능 (값이 바뀌게 되니까)\n",
    "- immutable(생성 후 변경 불가능)\n",
    "- index 사용 → slicing 가능\n",
    "- () 생략 가능\n",
    "- 1개의 원소만 가지는 경우, 사용 → (1,)\n",
    "\n",
    "3. dict{key:value}\n",
    "- 가방\n",
    "- key, value 한 쌍으로 구성 된 구조\n",
    "- key를 통해서 value 접근\n",
    "- key 중복 불가, value 중복 가능\n",
    "- 순서 없음 → index 없음\n",
    "- 멤버함수: update(), get(), keys(), values(), items()\n",
    "\n",
    "4. set{}\n",
    "- dict type에서 key만 활용하는 데이터 구조로 이해\n",
    "- 수학 집합과 같은 개념\n",
    "- 순서 없음 → index 없음\n",
    "- set 구조 내 중복값 허용 안함\n",
    "- {}: dict, {1,2,3} : set\n",
    "- 멤버함수: union(), intersecction(), difference() 등등"
   ]
  },
  {
   "cell_type": "code",
   "execution_count": 2,
   "id": "6dbd08c0",
   "metadata": {},
   "outputs": [
    {
     "name": "stdout",
     "output_type": "stream",
     "text": [
      "[]\n"
     ]
    }
   ],
   "source": [
    "# list 초기화\n",
    "# 1. []\n",
    "# 2. list()\n",
    "\n",
    "list_a = []\n",
    "list_b = [1, 2, 3]\n",
    "list_c = [\"cnu\", 3.14, [1,2,3,]]\n",
    "\n",
    "print(list_a)"
   ]
  },
  {
   "cell_type": "code",
   "execution_count": 4,
   "id": "23aa6ecc",
   "metadata": {},
   "outputs": [
    {
     "name": "stdout",
     "output_type": "stream",
     "text": [
      "['H', 'e', 'l', 'l', 'o']\n",
      "[1, 2, 3]\n"
     ]
    }
   ],
   "source": [
    "str_a = \"Hello\"\n",
    "list_d = list(str_a)  # 문자열 → list 형변환\n",
    "print(list_d)\n",
    "\n",
    "tuple_a = (1, 2, 3)\n",
    "list_e = list(tuple_a)\n",
    "print(list_e)"
   ]
  },
  {
   "cell_type": "code",
   "execution_count": 3,
   "id": "9eba0d52",
   "metadata": {},
   "outputs": [
    {
     "name": "stdout",
     "output_type": "stream",
     "text": [
      "4\n",
      "[2, 3]\n",
      "[1, 2]\n"
     ]
    }
   ],
   "source": [
    "list_f = [1, 2, 3, 4, 5]\n",
    "print(list_f[3])\n",
    "print(list_f[1:3]) #뒷 슬라이스는 -1 해줘야함\n",
    "print(list_f[:2])"
   ]
  },
  {
   "cell_type": "code",
   "execution_count": 8,
   "id": "b501ae6c",
   "metadata": {},
   "outputs": [
    {
     "name": "stdout",
     "output_type": "stream",
     "text": [
      "[1, 2, 3, 10]\n"
     ]
    }
   ],
   "source": [
    "# append() : list 마지막에 값을 추가\n",
    "a = [1, 2, 3]\n",
    "a.append(10)\n",
    "print(a)"
   ]
  },
  {
   "cell_type": "code",
   "execution_count": 10,
   "id": "3e6bf56b",
   "metadata": {},
   "outputs": [
    {
     "name": "stdout",
     "output_type": "stream",
     "text": [
      "[1, 99, 2, 3]\n"
     ]
    }
   ],
   "source": [
    "# insert() : list 원하는 인덱스 위치에 값을 추가 (새치기) (\"인덱스위치,숫자\" 형태로)\n",
    "a = [1, 2, 3]\n",
    "a.insert(1, 99)\n",
    "print(a)"
   ]
  },
  {
   "cell_type": "code",
   "execution_count": 12,
   "id": "a6f37657",
   "metadata": {},
   "outputs": [
    {
     "name": "stdout",
     "output_type": "stream",
     "text": [
      "[1, 2, 3, [4, 5, 6]]\n"
     ]
    }
   ],
   "source": [
    "# extend() : list와 list 병합\n",
    "a = [1, 2, 3]\n",
    "b = [4, 5, 6]\n",
    "\n",
    "a.append(b)\n",
    "print(a)"
   ]
  },
  {
   "cell_type": "code",
   "execution_count": 7,
   "id": "c2ba2824",
   "metadata": {},
   "outputs": [
    {
     "name": "stdout",
     "output_type": "stream",
     "text": [
      "[1, 2, 3, 4, 5, 6]\n"
     ]
    }
   ],
   "source": [
    "a = [1, 2, 3]\n",
    "b = [4, 5, 6]\n",
    "\n",
    "a.extend(b)\n",
    "print(a)"
   ]
  },
  {
   "cell_type": "code",
   "execution_count": 6,
   "id": "682c4cc2",
   "metadata": {},
   "outputs": [
    {
     "name": "stdout",
     "output_type": "stream",
     "text": [
      "[1, 2, 3, 4, 5, 6]\n"
     ]
    }
   ],
   "source": [
    "a = [1, 2, 3]\n",
    "b = [4, 5, 6]\n",
    "\n",
    "# a.extend(b)\n",
    "a += b # a = a+b\n",
    "print(a)"
   ]
  },
  {
   "cell_type": "code",
   "execution_count": 8,
   "id": "0b8d5abb",
   "metadata": {},
   "outputs": [
    {
     "name": "stdout",
     "output_type": "stream",
     "text": [
      "[1, 3]\n"
     ]
    }
   ],
   "source": [
    "# remove() : 값을 통해서 삭제(인덱스로 삭제 x)\n",
    "a = [1, 2, 3]\n",
    "a.remove(2)\n",
    "print(a)"
   ]
  },
  {
   "cell_type": "code",
   "execution_count": 9,
   "id": "21a85351",
   "metadata": {},
   "outputs": [
    {
     "name": "stdout",
     "output_type": "stream",
     "text": [
      "[4, 5]\n",
      "6\n"
     ]
    }
   ],
   "source": [
    "# pop() : 인덱스를 통해서 삭제( + 삭제 전 값을 변수에 저장 가능)\n",
    "a = [4, 5, 6]\n",
    "# a,pop(1) 도 가능\n",
    "b= a.pop(2)\n",
    "print(a)\n",
    "print(b)"
   ]
  },
  {
   "cell_type": "code",
   "execution_count": 11,
   "id": "2e34e3e8",
   "metadata": {},
   "outputs": [
    {
     "name": "stdout",
     "output_type": "stream",
     "text": [
      "2\n"
     ]
    }
   ],
   "source": [
    "# index() : 찾고자 하는 값의 인덱스 번호 출력\n",
    "a = [8, 10, 20, 5, 3]\n",
    "print(a.index(20))"
   ]
  },
  {
   "cell_type": "code",
   "execution_count": 15,
   "id": "5e5a578c",
   "metadata": {},
   "outputs": [
    {
     "data": {
      "text/plain": [
       "'yju0269'"
      ]
     },
     "execution_count": 15,
     "metadata": {},
     "output_type": "execute_result"
    }
   ],
   "source": [
    "# 사용자의 이메일 이름만 추출하기\n",
    "\n",
    "email = \"yju0269@naver.com\"\n",
    "\n",
    "email_idx = email.index(\"@\")\n",
    "email[:email_idx]"
   ]
  },
  {
   "cell_type": "code",
   "execution_count": 16,
   "id": "ecc6b7b9",
   "metadata": {},
   "outputs": [
    {
     "name": "stdout",
     "output_type": "stream",
     "text": [
      "True\n",
      "False\n"
     ]
    }
   ],
   "source": [
    "# in : list 내에 해당 값이 존재하는지 (True, False)\n",
    "a = [1, 2, 3]\n",
    "print(3 in a)\n",
    "print(5 in a)"
   ]
  },
  {
   "cell_type": "code",
   "execution_count": 22,
   "id": "348b535e",
   "metadata": {},
   "outputs": [
    {
     "name": "stdout",
     "output_type": "stream",
     "text": [
      "[9, 5, 1, 2, 10, 15, 12]\n",
      "[1, 2, 5, 9, 10, 12, 15]\n",
      "==================================================\n",
      "[15, 12, 10, 9, 5, 2, 1]\n"
     ]
    }
   ],
   "source": [
    "# sort() and sorted() : list 정렬 (튜플은 불가)\n",
    "# - sort() : 원본 list 정렬\n",
    "# - sorted() : list 복제 후 정렬 (원본 유지)\n",
    "\n",
    "a = [9, 5, 1, 2, 10, 15, 12]\n",
    "\n",
    "b = sorted(a) # 정렬 default : 오름차순\n",
    "print(a) # 원본 유지\n",
    "print(b)\n",
    "print(\"=\" *50)\n",
    "a.sort(reverse=True) # 내림차순\n",
    "print(a)"
   ]
  },
  {
   "cell_type": "markdown",
   "id": "d31ee9e4",
   "metadata": {},
   "source": [
    "### 2. Tuple"
   ]
  },
  {
   "cell_type": "code",
   "execution_count": 26,
   "id": "e668e3a6",
   "metadata": {},
   "outputs": [
    {
     "name": "stdout",
     "output_type": "stream",
     "text": [
      "<class 'list'>\n",
      "<class 'tuple'>\n",
      "<class 'tuple'>\n",
      "[99, 2, 3]\n"
     ]
    }
   ],
   "source": [
    "a = [1, 2, 3]\n",
    "b = (1, 2, 3)\n",
    "c = 5, 6, 7\n",
    "\n",
    "print(type(a))\n",
    "print(type(b))\n",
    "print(type(c))\n",
    "\n",
    "a[0] = 99\n",
    "print(a)\n",
    "\n",
    "#b[0] = 99\n",
    "#print(b) → 튜플은 수정 불가"
   ]
  },
  {
   "cell_type": "code",
   "execution_count": 30,
   "id": "d54ccc76",
   "metadata": {},
   "outputs": [
    {
     "name": "stdout",
     "output_type": "stream",
     "text": [
      "1 2\n",
      "1 2 3\n"
     ]
    }
   ],
   "source": [
    "# packing and unpacking\n",
    "# - list와 tuple 가능\n",
    "# - [], () → 값을 묶음(packing)\n",
    "\n",
    "tuple_num  = (1, 2, 3) # packing\n",
    "a, b, c = tuple_num # unpacking\n",
    "print(a, b,)\n",
    "print(a, b, c)"
   ]
  },
  {
   "cell_type": "markdown",
   "id": "29c27f06",
   "metadata": {},
   "source": [
    "## 연습문제\n",
    "\n",
    "변수 a와 b의 값을 교환하세요"
   ]
  },
  {
   "cell_type": "code",
   "execution_count": 33,
   "id": "b501e351",
   "metadata": {},
   "outputs": [
    {
     "name": "stdout",
     "output_type": "stream",
     "text": [
      "9\n",
      "5\n"
     ]
    }
   ],
   "source": [
    "a = 5\n",
    "b = 9\n",
    "\n",
    "# 코드작성\n",
    "# 1. 임시 변수 사용\n",
    "temp = a\n",
    "a = b\n",
    "b = temp\n",
    "\n",
    "print(a)\n",
    "print(b)"
   ]
  },
  {
   "cell_type": "code",
   "execution_count": 34,
   "id": "d1839751",
   "metadata": {},
   "outputs": [
    {
     "name": "stdout",
     "output_type": "stream",
     "text": [
      "9\n",
      "5\n"
     ]
    }
   ],
   "source": [
    "a = 5\n",
    "b = 9\n",
    "\n",
    "a, b = (b, a) # 튜플 사용 = a, b = b, a (튜플은 괄호 없이 사용 가능)\n",
    "\n",
    "print(a)\n",
    "print(b)"
   ]
  },
  {
   "cell_type": "markdown",
   "id": "6529ac08",
   "metadata": {},
   "source": [
    "### 3. dict"
   ]
  },
  {
   "cell_type": "code",
   "execution_count": 35,
   "id": "f299ee92",
   "metadata": {},
   "outputs": [
    {
     "name": "stdout",
     "output_type": "stream",
     "text": [
      "Ottawa\n",
      "9\n"
     ]
    }
   ],
   "source": [
    "dict_a = {\"Korea\" : \"Seoul\",\n",
    "         \"Canada\" : \"Ottawa\",\n",
    "         \"usa\" : \"Washington D.C\"}\n",
    "dict_b = {0:1, 1:6, 2:4, 3:9}\n",
    "print(dict_a[\"Canada\"])\n",
    "print(dict_b[3])"
   ]
  },
  {
   "cell_type": "code",
   "execution_count": 4,
   "id": "be719aa6",
   "metadata": {},
   "outputs": [
    {
     "name": "stdout",
     "output_type": "stream",
     "text": [
      "{'Canada': 'Ottawa',\n",
      " 'Japan': 'Kyoto',\n",
      " 'Japan2': 'Kyoto',\n",
      " 'Korea': 'Seoul',\n",
      " 'usa': 'Washington D.C'}\n"
     ]
    }
   ],
   "source": [
    "import pprint\n",
    "\n",
    "dict_a = {\"Korea\" : \"Seoul\",\n",
    "         \"Canada\" : \"Ottawa\",\n",
    "         \"usa\" : \"Washington D.C\"}\n",
    "\n",
    "# 값을 입력 → key 값이 입력 X, key 값이 수정 O\n",
    "dict_a[\"Japan\"] = \"Tokyo\" # dict 값 추가\n",
    "dict_a[\"Japan\"] = \"Kyoto\" # Japan 이라는 Key 값을 도쿄에서 교토로 변경 (Key 값이 중복되서) \n",
    "dict_a[\"Japan2\"] = \"Kyoto\" # Value 값은 중복되도 출력 가능\n",
    "\n",
    "pprint.pprint(dict_a) # (+) 이쁘게 출력해줌"
   ]
  },
  {
   "cell_type": "code",
   "execution_count": 52,
   "id": "36bb5f9c",
   "metadata": {},
   "outputs": [
    {
     "name": "stdout",
     "output_type": "stream",
     "text": [
      "{'a': 9, 'b': 2, 'd ': 4, 'e': 5}\n"
     ]
    }
   ],
   "source": [
    "# update() : dict와 dict 병합\n",
    "a = {\n",
    "    \"a\" : 1,\n",
    "    \"b\" : 2\n",
    "}\n",
    "b = {\n",
    "    \"a\" : 9,\n",
    "    \"d \": 4,\n",
    "    \"e\" : 5\n",
    "}\n",
    "\n",
    "a.update(b)\n",
    "print(a)"
   ]
  },
  {
   "cell_type": "code",
   "execution_count": 53,
   "id": "7a9b8618",
   "metadata": {},
   "outputs": [
    {
     "name": "stdout",
     "output_type": "stream",
     "text": [
      "{'b': 2, 'd ': 4, 'e': 5}\n",
      "9\n"
     ]
    }
   ],
   "source": [
    "# pop() : dict 항목 삭제\n",
    "\n",
    "c = a.pop(\"a\")\n",
    "print(a)\n",
    "print(c)"
   ]
  },
  {
   "cell_type": "code",
   "execution_count": 54,
   "id": "9d734d21",
   "metadata": {},
   "outputs": [
    {
     "name": "stdout",
     "output_type": "stream",
     "text": [
      "5\n",
      "None\n"
     ]
    }
   ],
   "source": [
    "# 값 접근\n",
    "print(a[\"e\"])\n",
    "# print(a[\"f\"])\n",
    "print(a.get(\"f\"))"
   ]
  },
  {
   "cell_type": "code",
   "execution_count": 55,
   "id": "10be6c99",
   "metadata": {},
   "outputs": [
    {
     "name": "stdout",
     "output_type": "stream",
     "text": [
      "True\n"
     ]
    }
   ],
   "source": [
    "# in\n",
    "print(\"b\" in a)"
   ]
  },
  {
   "cell_type": "code",
   "execution_count": 56,
   "id": "8116e080",
   "metadata": {},
   "outputs": [
    {
     "name": "stdout",
     "output_type": "stream",
     "text": [
      "{'b': 2, 'd ': 4, 'e': 5}\n",
      "{}\n"
     ]
    }
   ],
   "source": [
    "# clear() : dict 초기화\n",
    "print(a)\n",
    "a.clear()\n",
    "print(a)"
   ]
  },
  {
   "cell_type": "code",
   "execution_count": 14,
   "id": "afc7f6e3",
   "metadata": {},
   "outputs": [
    {
     "name": "stdout",
     "output_type": "stream",
     "text": [
      "{'a': 1, 'b': 2}\n",
      "dict_keys(['a', 'b'])\n",
      "dict_values([1, 2])\n",
      "dict_items([('a', 1), ('b', 2)])\n",
      "<class 'dict'>\n",
      "<class 'dict_keys'>\n",
      "<class 'dict_values'>\n",
      "<class 'dict_items'>\n",
      "['a', 'b']\n",
      "<class 'list'>\n",
      "[('a', 1), ('b', 2)]\n",
      "<class 'list'>\n",
      "<class 'tuple'>\n"
     ]
    }
   ],
   "source": [
    "# keys() : key 값만 반환\n",
    "# values() : value 값만 반환\n",
    "# items() : key, value를 튜플로 반환\n",
    "\n",
    "a = {\n",
    "    \"a\" : 1,\n",
    "    \"b\" : 2\n",
    "}\n",
    "\n",
    "print(a)\n",
    "print(a.keys())\n",
    "print(a.values())\n",
    "print(a.items())\n",
    "\n",
    "print(type(a))\n",
    "print(type(a.keys()))\n",
    "print(type(a.values()))\n",
    "print(type(a.items()))\n",
    "\n",
    "print(list(a.keys()))\n",
    "print(type(list(a.keys())))\n",
    "\n",
    "print(list(a.items()))\n",
    "\n",
    "val = list(a.items())\n",
    "print(type(val)) # 리스트\n",
    "print(type(val[0])) # 그냥 괄호로 묶여있으니 튜플"
   ]
  },
  {
   "cell_type": "markdown",
   "id": "1dc8b83c",
   "metadata": {},
   "source": [
    "### 4. Set"
   ]
  },
  {
   "cell_type": "code",
   "execution_count": 16,
   "id": "88992b5b",
   "metadata": {},
   "outputs": [
    {
     "name": "stdout",
     "output_type": "stream",
     "text": [
      "[1, 1, 1, 2, 2, 2, 3, 3, 4, 4, 5]\n",
      "{1, 2, 3, 4, 5}\n",
      "<class 'dict'>\n"
     ]
    }
   ],
   "source": [
    "list_z = [1, 1, 1, 2, 2, 2, 3, 3, 4, 4, 5]\n",
    "print(list_z)\n",
    "\n",
    "set_a = set(list_z)\n",
    "print(set_a)\n",
    "\n",
    "# set? or dict?\n",
    "j = {}\n",
    "print(type(j))"
   ]
  },
  {
   "cell_type": "code",
   "execution_count": 17,
   "id": "e980ca56",
   "metadata": {},
   "outputs": [
    {
     "name": "stdout",
     "output_type": "stream",
     "text": [
      "{1, 2, 3, 4}\n",
      "{2, 3}\n",
      "{1}\n",
      "False\n"
     ]
    }
   ],
   "source": [
    "a = {1, 2, 3}\n",
    "b = {2, 3, 4}\n",
    "\n",
    "# 시험 안나옴 (외우지 말기)\n",
    "print(a.union(b)) # 합집합\n",
    "print(a.intersection(b)) # 교집합\n",
    "print(a.difference(b)) # 차집합\n",
    "print(a.issubset(b)) # 부분집합 (b가 {1,2,3,4})"
   ]
  }
 ],
 "metadata": {
  "kernelspec": {
   "display_name": "Python 3 (ipykernel)",
   "language": "python",
   "name": "python3"
  },
  "language_info": {
   "codemirror_mode": {
    "name": "ipython",
    "version": 3
   },
   "file_extension": ".py",
   "mimetype": "text/x-python",
   "name": "python",
   "nbconvert_exporter": "python",
   "pygments_lexer": "ipython3",
   "version": "3.9.13"
  }
 },
 "nbformat": 4,
 "nbformat_minor": 5
}
