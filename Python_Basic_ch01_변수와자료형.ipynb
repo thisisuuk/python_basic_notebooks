{
 "cells": [
  {
   "cell_type": "markdown",
   "metadata": {},
   "source": [
    "### 1. 출력 함수(print)\n",
    "print() 함수\n",
    "- ()안의 값을 출력해주는 함수\n",
    "- 변수 값을 확인하는 용도로도 사용"
   ]
  },
  {
   "cell_type": "code",
   "execution_count": 4,
   "metadata": {},
   "outputs": [
    {
     "name": "stdout",
     "output_type": "stream",
     "text": [
      "Hello Python\n",
      "Hello Python\n",
      "25\n",
      "3.14\n",
      "True\n"
     ]
    }
   ],
   "source": [
    "print(\"Hello Python\")\n",
    "print('Hello Python')\n",
    "print(25)\n",
    "print(3.14)\n",
    "print(True)"
   ]
  },
  {
   "cell_type": "markdown",
   "metadata": {},
   "source": [
    "#### 참고. Escape 코드\n",
    "- 문자열 내의 일부 문자의 의미를 달리하여 특정한 효과를 주는 것\n",
    "- \\n : 한 줄 개행\n",
    "- \\t : 탭(8칸 공백)"
   ]
  },
  {
   "cell_type": "code",
   "execution_count": 5,
   "metadata": {},
   "outputs": [
    {
     "name": "stdout",
     "output_type": "stream",
     "text": [
      "Hello \n",
      " Python\n",
      "Hello \t Python\n"
     ]
    }
   ],
   "source": [
    "print(\"Hello \\n Python\")\n",
    "print(\"Hello \\t Python\")"
   ]
  },
  {
   "cell_type": "markdown",
   "metadata": {},
   "source": [
    "#### 소수점 출력하기, 포맷함수(중괄호 안으로 값을 순서대로 집어 넣음)\n",
    "- {0:3d} : 포맷 0번째 숫자, 3글자, d(정수)\n",
    "- {1:3.2f} : 포맷 1번째 숫자, 3글자, 소수점 2자리, f(실수)"
   ]
  },
  {
   "cell_type": "code",
   "execution_count": 11,
   "metadata": {},
   "outputs": [
    {
     "name": "stdout",
     "output_type": "stream",
     "text": [
      "이름: 윤지욱, 학점: 4.5\n",
      "Test1: 369, Test2: 623.46\n"
     ]
    }
   ],
   "source": [
    "print(\"이름: {}, 학점: {}\".format(\"윤지욱\", 4.5))\n",
    "print(\"Test1: {0:3d}, Test2: {1:3.2f}\".format(369, 623.4567))"
   ]
  },
  {
   "cell_type": "markdown",
   "metadata": {},
   "source": [
    "### 2. 주석(comment)\n",
    "- 코드에서 #으로 시작하는 뒷 부분을 실행하지 않음\n",
    "- Python 소스코드 실행 시 #은 무시하고 실행\n",
    "- 개발자(사람)가 보기 위한 용도로 사용\n",
    "- 개발 시 주석을 잘 활용하는 사람이 좋은 개발자"
   ]
  },
  {
   "cell_type": "code",
   "execution_count": 14,
   "metadata": {},
   "outputs": [
    {
     "name": "stdout",
     "output_type": "stream",
     "text": [
      "235688\n"
     ]
    }
   ],
   "source": [
    "student_num = \"235688\"  # 학번\n",
    "\n",
    "# 학번 출력\n",
    "print(student_num)"
   ]
  },
  {
   "cell_type": "markdown",
   "metadata": {},
   "source": [
    "### 3. 자료형(Type)\n",
    "1. 문자열(string) : \"Hello\", 'Hi' (쌍, 홀 둘 다 가능한데 다른 언어를 위해 무조건 쌍따옴표 쓰기)\n",
    "2. 정수형 숫자(int): 3, 0, -1\n",
    "3. 실수형 숫자(float): 3.1, 0.0, -2.2\n",
    "4. 논리형(boolean): True, False (논리형 첫글자는 무조건 대문자)\n",
    "\n",
    " \n",
    " - type() 함수를 사용해서 자료형 확인 가능(print를 활용하여 확인 가능)"
   ]
  },
  {
   "cell_type": "code",
   "execution_count": 19,
   "metadata": {},
   "outputs": [
    {
     "name": "stdout",
     "output_type": "stream",
     "text": [
      "<class 'float'>\n",
      "<class 'str'>\n"
     ]
    }
   ],
   "source": [
    "print(type(3.14))\n",
    "print(type(\"Hi\"))"
   ]
  },
  {
   "cell_type": "markdown",
   "metadata": {},
   "source": [
    "형변환(Type Casting)\n",
    "\n",
    "- 형변환을 사용하면 자료형을 원하는 type 으로 변환 가능\n",
    "\n",
    " 1. int(): ()안의 값을 정수형 변환\n",
    " 2. float(): ()안의 값을 실수형 변환\n",
    " 3. str(): ()안의 값을 문자열형 변환"
   ]
  },
  {
   "cell_type": "code",
   "execution_count": 29,
   "metadata": {},
   "outputs": [
    {
     "name": "stdout",
     "output_type": "stream",
     "text": [
      "3\n",
      "3.0\n",
      "3\n",
      "3.14\n",
      "3.0\n"
     ]
    }
   ],
   "source": [
    "# int(\"Hello\") (X)\n",
    "# float(\"Hi\") (X)\n",
    "\n",
    "# 실수형 → 정수형 (O)\n",
    "a = 3.14\n",
    "print(int(a))\n",
    "\n",
    "# 정수형 → 실수형 (O)\n",
    "b = 3\n",
    "print(float(b))\n",
    "\n",
    "# 문자열 정수 → 정수형 (O)\n",
    "c = \"3\" #String\n",
    "print(int(c))\n",
    "\n",
    "# 문자열 실수 → 실수형 (O)\n",
    "d = \"3.14\"\n",
    "print(float(d))\n",
    "\n",
    "# 문자열 실수 → 정수형  (X, .이 문자열에 있으니까 안됨)\n",
    "#print(int(d))\n",
    "\n",
    "# 문자열 정수 → 실수형 (O)\n",
    "print(float(c))\n"
   ]
  },
  {
   "cell_type": "markdown",
   "metadata": {},
   "source": [
    "### None\n",
    "- 아무런 값을 갖지 않을 때 사용\n",
    "- 일반적으로 변수가 초기값을 갖지 않게 하여 해당 변수를 생성할 때 사용\n",
    "- 기타 언어의 Null과 같은 의미로 사용"
   ]
  },
  {
   "cell_type": "code",
   "execution_count": 1,
   "metadata": {},
   "outputs": [
    {
     "name": "stdout",
     "output_type": "stream",
     "text": [
      "None\n"
     ]
    }
   ],
   "source": [
    "student_name = None\n",
    "print(student_name)"
   ]
  },
  {
   "cell_type": "markdown",
   "metadata": {},
   "source": [
    "## 4. 변수(Variable)\n",
    "- 변수 : 하나의 값을 저장할 수 있는 메모리 공간 (무조건 하나만)\n",
    "\n",
    "```python\n",
    "#변수 선언 및 초기화 방법\n",
    "num = 5\n",
    "```\n",
    "동적 타이핑 언어*: 코드 작성시 Type을 명시하지 않음(코드 실행시 Python이 자동으로 Type 체크)  \n",
    "num = 5 (python)  \n",
    "int num = 5 (java - 정적 타이핑 언어)  \n",
    "\n",
    "대입연산자(=) : 우측의 값을 좌측에 대입, 동등(equal)의 의미 아님  \n",
    "\n",
    "- python에서 동등(equal)은 ==을 사용"
   ]
  },
  {
   "cell_type": "code",
   "execution_count": 7,
   "metadata": {},
   "outputs": [
    {
     "name": "stdout",
     "output_type": "stream",
     "text": [
      "YunJiUk\n"
     ]
    }
   ],
   "source": [
    "# name 변수 생성\n",
    "# \"YunJiUk\" 값을 name 변수에 저장\n",
    "\n",
    "# name → 변수 이름\n",
    "# = → 대입 연산자\n",
    "# \"YunJiUk\" → 값\n",
    "name = \"YunJiUk\"\n",
    "print(name)"
   ]
  },
  {
   "cell_type": "markdown",
   "metadata": {},
   "source": [
    "### 변수 명명 규칙(naming rule)\n",
    "1. 영문 대소문자, _ , 숫자로만 구성\n",
    "2. 숫자로 시작할 수 없음\n",
    "3. 영어 대소문자 구별\n",
    "4. 예약어 사용불가\n",
    "\n",
    "- 예약어: Python에서 미리 선점하여 사용 중인 키워드\n",
    "- 예약어는 변수, 함수, 클래스 등의 사용자 정의 이름으로 사용할 수 없음\n",
    "- 예약어 예) for, while, if, None, True, False, return, def 등등"
   ]
  },
  {
   "cell_type": "code",
   "execution_count": 10,
   "metadata": {},
   "outputs": [],
   "source": [
    "# 1abc = 5 (X) 숫자로 시작 불가\n",
    "abc1 = 5 # (O)\n",
    "\n",
    "# 영어 대소문자 구별\n",
    "abc = 5 # abc와 Abc는 서로 다른 변수\n",
    "Abc = 3\n",
    "\n",
    "# 예약어 사용불가\n",
    "# None = 3 # (X)\n",
    "# print = 5 # (X)"
   ]
  },
  {
   "cell_type": "markdown",
   "metadata": {},
   "source": [
    "## 5.Nameing Method\n",
    "- 변수, 함수, 클래스 등의 사용자 정의 이름에 사용(개발자끼리 규칙 만듦)\n",
    "- 프로그래밍 언어별로 사용하는 Naming Method가 다름\n",
    "- Python은 snake_case 사용 !!\n",
    "\n",
    "1. snake_case: 소문자로 작성, 합성어 '_' 사용 (student_name)\n",
    "2. camelCase: 첫글자 소문자, 합성어 첫글자 대문자 (studentName)\n",
    "3. PascalCase: 첫글자 대문자, 합성어 첫글자 대문자 (StudentName)"
   ]
  },
  {
   "cell_type": "markdown",
   "metadata": {},
   "source": [
    "## 6. format 출력\n",
    "\n",
    "1. format(): 과거\n",
    "2. f-string: 최신"
   ]
  },
  {
   "cell_type": "code",
   "execution_count": 12,
   "metadata": {},
   "outputs": [
    {
     "name": "stdout",
     "output_type": "stream",
     "text": [
      "전남대학교 235688, YunJiUk 입니다.\n",
      "전남대학교 235688, YunJiUk 입니다.\n"
     ]
    }
   ],
   "source": [
    "student_num = 235688\n",
    "student_name = \"YunJiUk\"\n",
    "\n",
    "# 출력: 전남대학교 235688, YunJiUk 입니다.\n",
    "print(\"전남대학교 {}, {} 입니다.\".format(student_num, student_name))\n",
    "print(f\"전남대학교 {student_num}, {student_name} 입니다.\")"
   ]
  },
  {
   "cell_type": "markdown",
   "metadata": {},
   "source": [
    "## 7. 사칙연산\n",
    "\n",
    "- 더하기: +\n",
    "- 빼기: -\n",
    "- 곱하기: *\n",
    "- 나누기: /\n",
    "- 나누기(몫): //\n",
    "- 나누기(나머지): %\n",
    "- 제곱: **"
   ]
  }
 ],
 "metadata": {
  "kernelspec": {
   "display_name": "Python 3 (ipykernel)",
   "language": "python",
   "name": "python3"
  },
  "language_info": {
   "codemirror_mode": {
    "name": "ipython",
    "version": 3
   },
   "file_extension": ".py",
   "mimetype": "text/x-python",
   "name": "python",
   "nbconvert_exporter": "python",
   "pygments_lexer": "ipython3",
   "version": "3.9.7"
  }
 },
 "nbformat": 4,
 "nbformat_minor": 4
}
